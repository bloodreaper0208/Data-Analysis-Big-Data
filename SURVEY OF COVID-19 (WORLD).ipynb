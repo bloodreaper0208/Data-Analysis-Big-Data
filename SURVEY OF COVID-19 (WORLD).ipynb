{
  "nbformat": 4,
  "nbformat_minor": 0,
  "metadata": {
    "kernelspec": {
      "display_name": "Python 3",
      "language": "python",
      "name": "python3"
    },
    "language_info": {
      "codemirror_mode": {
        "name": "ipython",
        "version": 3
      },
      "file_extension": ".py",
      "mimetype": "text/x-python",
      "name": "python",
      "nbconvert_exporter": "python",
      "pygments_lexer": "ipython3",
      "version": "3.7.4"
    },
    "colab": {
      "name": "Case Study 2(Country Wise).ipynb",
      "provenance": []
    }
  },
  "cells": [
    {
      "cell_type": "code",
      "metadata": {
        "id": "xPG8zKYwrwTm"
      },
      "source": [
        "import numpy as np\n",
        "import matplotlib as plt\n",
        "import pandas as pd"
      ],
      "execution_count": null,
      "outputs": []
    },
    {
      "cell_type": "code",
      "metadata": {
        "id": "ZPc93m9lrwTr"
      },
      "source": [
        "df = pd.read_csv(r'C:\\Users\\Manas\\Desktop\\Data Analytics Internship Fouses\\Cases1.csv')"
      ],
      "execution_count": null,
      "outputs": []
    },
    {
      "cell_type": "code",
      "metadata": {
        "id": "y5v20_zwrwTw",
        "outputId": "0a4e6ca4-b5dc-42de-c4ee-11385730c532"
      },
      "source": [
        "print(df)"
      ],
      "execution_count": null,
      "outputs": [
        {
          "output_type": "stream",
          "text": [
            "           Country  ConfirmedCases  Deaths  Recovered   Active\n",
            "0              USA         7833763  217738    5025193  2590832\n",
            "1            India         6903812  106521    5903207   894084\n",
            "2           Brazil         5029539  149034    4414564   465941\n",
            "3           Russia         1260112   22056    1002329   235727\n",
            "4            Spain          884381   32688       7015   844678\n",
            "5             Peru          838614   33098     728216    77300\n",
            "6           Mexico          804488   83096     583603   137789\n",
            "7           France          671638   32521     100306   538811\n",
            "8               UK          561815   42592        135   519088\n",
            "9             Iran          488236   27888     399300    61048\n",
            "10           Chile          476016   13167     448710    14139\n",
            "11           Italy          338398   36083     236363    65952\n",
            "12    Saudi Arabia          338132    4972     323769     9391\n",
            "13          Turkey          330753    8667     290352    31734\n",
            "14        Pakistan          316934    6544     302375     8015\n",
            "15         Germany          315514    9667     269618    36229\n",
            "16          Canada          175559    9557     147508    18494\n",
            "17         Belgium          137868   10108          1   127760\n",
            "18           Qatar          127394     218     124327     2849\n",
            "19  Mainland China           85500    4634      80666      200\n"
          ],
          "name": "stdout"
        }
      ]
    },
    {
      "cell_type": "code",
      "metadata": {
        "id": "TYvsxzY8rwT3",
        "outputId": "9bc74ba6-0d9a-4aaf-9d6d-9525f88afe6f"
      },
      "source": [
        "print(\"The country with the higgest number of cases is :- \\n\",df.max())"
      ],
      "execution_count": null,
      "outputs": [
        {
          "output_type": "stream",
          "text": [
            "The country with the higgest number of cases is :- \n",
            " Country                USA\n",
            "Confirmed Cases    7833763\n",
            "Deaths              217738\n",
            "Recovered          5903207\n",
            "Active             2590832\n",
            "dtype: object\n"
          ],
          "name": "stdout"
        }
      ]
    },
    {
      "cell_type": "code",
      "metadata": {
        "id": "w4HUAcmzrwT7"
      },
      "source": [
        "x = df['ConfirmedCases']\n",
        "\n",
        "y = df['Deaths']\n",
        "\n",
        "z = df['Recovered']"
      ],
      "execution_count": null,
      "outputs": []
    },
    {
      "cell_type": "code",
      "metadata": {
        "id": "ic4Tvv8ErwT_",
        "outputId": "89e4a786-2ea5-4776-d031-3176eaf31984"
      },
      "source": [
        "ratio = x/y\n",
        "df[\"Ratio\"]=ratio\n",
        "print(df)"
      ],
      "execution_count": null,
      "outputs": [
        {
          "output_type": "stream",
          "text": [
            "           Country  ConfirmedCases  Deaths  Recovered   Active       Ratio\n",
            "0              USA         7833763  217738    5025193  2590832   35.977932\n",
            "1            India         6903812  106521    5903207   894084   64.811746\n",
            "2           Brazil         5029539  149034    4414564   465941   33.747595\n",
            "3           Russia         1260112   22056    1002329   235727   57.132390\n",
            "4            Spain          884381   32688       7015   844678   27.055219\n",
            "5             Peru          838614   33098     728216    77300   25.337301\n",
            "6           Mexico          804488   83096     583603   137789    9.681429\n",
            "7           France          671638   32521     100306   538811   20.652440\n",
            "8               UK          561815   42592        135   519088   13.190623\n",
            "9             Iran          488236   27888     399300    61048   17.507028\n",
            "10           Chile          476016   13167     448710    14139   36.152199\n",
            "11           Italy          338398   36083     236363    65952    9.378322\n",
            "12    Saudi Arabia          338132    4972     323769     9391   68.007241\n",
            "13          Turkey          330753    8667     290352    31734   38.162340\n",
            "14        Pakistan          316934    6544     302375     8015   48.431235\n",
            "15         Germany          315514    9667     269618    36229   32.638254\n",
            "16          Canada          175559    9557     147508    18494   18.369677\n",
            "17         Belgium          137868   10108          1   127760   13.639493\n",
            "18           Qatar          127394     218     124327     2849  584.376147\n",
            "19  Mainland China           85500    4634      80666      200   18.450583\n"
          ],
          "name": "stdout"
        }
      ]
    },
    {
      "cell_type": "code",
      "metadata": {
        "id": "sWwrROOurwUD",
        "outputId": "ebe855c5-d028-4775-8f16-88f7c6284278"
      },
      "source": [
        "print(\"Country with the highest Ratio of Total Cases to Deaths is:- \")\n",
        "print(df[df.Ratio== df.Ratio.max()])"
      ],
      "execution_count": null,
      "outputs": [
        {
          "output_type": "stream",
          "text": [
            "Country with the highest Ratio of Total Cases to Deaths is:- \n",
            "   Country  ConfirmedCases  Deaths  Recovered  Active       Ratio\n",
            "18   Qatar          127394     218     124327    2849  584.376147\n"
          ],
          "name": "stdout"
        }
      ]
    },
    {
      "cell_type": "code",
      "metadata": {
        "id": "my0afiwArwUI"
      },
      "source": [
        "recovered_ratio = x/z\n",
        "df[\"Ratio2\"]=recovered_ratio\n"
      ],
      "execution_count": null,
      "outputs": []
    },
    {
      "cell_type": "code",
      "metadata": {
        "id": "C1OWzEjSrwUL",
        "outputId": "667ea213-1ed3-4d77-ea26-5e98e4d14118"
      },
      "source": [
        "print(\"Country with highest Ratio of Confirmed Cases to Patients recovered is:- \")\n",
        "print(df[df.Ratio2== df.Ratio2.max()])\n"
      ],
      "execution_count": null,
      "outputs": [
        {
          "output_type": "stream",
          "text": [
            "Country with highest Ratio of Confirmed Cases to Patients recovered is:- \n",
            "    Country  ConfirmedCases  Deaths  Recovered  Active      Ratio    Ratio2\n",
            "17  Belgium          137868   10108          1  127760  13.639493  137868.0\n"
          ],
          "name": "stdout"
        }
      ]
    },
    {
      "cell_type": "code",
      "metadata": {
        "id": "-ctTziKzrwUP",
        "outputId": "e03c7403-fcda-421f-dd3d-00820187bd6e"
      },
      "source": [
        "print(\"country which has the lowest number of cases:- \")\n",
        "print(df[df.ConfirmedCases == df.ConfirmedCases.min()])"
      ],
      "execution_count": null,
      "outputs": [
        {
          "output_type": "stream",
          "text": [
            "country which has the lowest number of cases:- \n",
            "           Country  ConfirmedCases  Deaths  Recovered  Active      Ratio  \\\n",
            "19  Mainland China           85500    4634      80666     200  18.450583   \n",
            "\n",
            "      Ratio2  \n",
            "19  1.059926  \n"
          ],
          "name": "stdout"
        }
      ]
    },
    {
      "cell_type": "code",
      "metadata": {
        "id": "VwjiBPfGrwUS",
        "outputId": "87e2f213-990a-403d-8076-f1668b2f0d15"
      },
      "source": [
        "print(\"The country which has the highest number of Active Cases is:- \")\n",
        "print(df[df.Active == df.Active.max()])"
      ],
      "execution_count": null,
      "outputs": [
        {
          "output_type": "stream",
          "text": [
            "The country which has the highest number of Active Cases is:- \n",
            "  Country  ConfirmedCases  Deaths  Recovered   Active      Ratio    Ratio2\n",
            "0     USA         7833763  217738    5025193  2590832  35.977932  1.558898\n"
          ],
          "name": "stdout"
        }
      ]
    },
    {
      "cell_type": "code",
      "metadata": {
        "id": "wAP0BvdZrwUX"
      },
      "source": [
        ""
      ],
      "execution_count": null,
      "outputs": []
    }
  ]
}